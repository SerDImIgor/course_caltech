{
 "cells": [
  {
   "cell_type": "code",
   "execution_count": 2,
   "metadata": {
    "collapsed": true
   },
   "outputs": [],
   "source": [
    "import numpy as np\n",
    "from matplotlib import pyplot as plt\n",
    "\n",
    "\n",
    "def drawPoint(dt,label):\n",
    "    plt.axis([-1, 1, -1,1])\n",
    "    positibe = dt[label==1,:]\n",
    "    plt.scatter(positibe[:,1],positibe[:,2],c = 'r')\n",
    "    negative = dt[label==-1,:]\n",
    "    plt.scatter(negative[:,1],negative[:,2],c = 'g')\n",
    "    plt.show()\n",
    "    \n",
    "def buildTargetFunction():\n",
    "    w0 = 1\n",
    "    point_1 , point_2 = np.random.uniform(-1., 1., size=(2,2))\n",
    "    # A*W = b \n",
    "    A = [point_1 , point_2]\n",
    "    b= [-w0,-w0]\n",
    "    w1, w2 = np.linalg.solve(A, b)\n",
    "    return np.array([w0, w1, w2])\n",
    "\n",
    "def generateData(N):\n",
    "    data =  np.random.uniform(-1,1,size=(N,2))\n",
    "    data_set =  np.column_stack((np.ones(N), data))\n",
    "    return data_set\n",
    "\n",
    "def prediction(data,targetFun):\n",
    "    labels = np.sign(data.dot(targetFun))\n",
    "    return labels\n",
    "\n",
    "def getData(target,N):\n",
    "    X = generateData(N) \n",
    "    Y = prediction(X,target) \n",
    "    cntP = len(np.nonzero(Y == 1)[0])\n",
    "    cntN = len(np.nonzero(Y == -1)[0])\n",
    "    if cntP < 1 or cntN < 1:\n",
    "        return getData(target,N)\n",
    "    return X,Y"
   ]
  },
  {
   "cell_type": "code",
   "execution_count": 12,
   "metadata": {},
   "outputs": [
    {
     "name": "stdout",
     "output_type": "stream",
     "text": [
      "0.31116\n",
      "0.19948\n"
     ]
    }
   ],
   "source": [
    "# create own SVM\n",
    "from cvxopt import matrix, solvers\n",
    "import numpy as np\n",
    "from sklearn.svm import SVC\n",
    "\n",
    "def createP(X,Y):\n",
    "    m,c = X.shape\n",
    "    P = np.zeros((m,m))\n",
    "    for i in range(0,m):\n",
    "        for j in range(0,m):\n",
    "            P[i,j]= Y[i]*Y[j]*np.dot((X[i,:]).T,X[j,:])\n",
    "    return P\n",
    "\n",
    "def solveQP(Q,Y):\n",
    "    r,_ = Q.shape\n",
    "\n",
    "    Q = matrix(Q,(r,r))\n",
    "    p = matrix(-np.ones(r))\n",
    "    G = matrix(-np.ones(r),(1,r))\n",
    "    \n",
    "    h = matrix(0.0)\n",
    "    A = matrix(Y,(1,r))\n",
    "    b = matrix(0.0)\n",
    "    solvers.options['show_progress'] = False\n",
    "    sol=solvers.qp(Q, p, G, h,A,b)\n",
    "    return sol['x']\n",
    "\n",
    "def trainSVM(X_train,Y_train):\n",
    "    #drawPoint(X_train,Y_train)\n",
    "    P = createP(X_train,Y_train)\n",
    "    al = solveQP(P,Y_train)\n",
    "    x = np.array(al)\n",
    "    w = np.sum(al  * Y_train.reshape((x.shape[0],1)) * X_train, axis = 0)\n",
    "    return w\n",
    "\n",
    "def predict(w,X_test,Y_test):\n",
    "    yPredict = np.sign(np.dot(X_test,w.T))\n",
    "    cnt = np.sum(yPredict!=Y_test)\n",
    "    return (cnt/len(Y_test))\n",
    "\n",
    "rep = 500\n",
    "ErrOwnSvn = 0\n",
    "ErrSvn = 0\n",
    "countTestPoint = 50\n",
    "for i in range(0,rep): \n",
    "    target = buildTargetFunction()\n",
    "    X_train,Y_train = getData(target,3)\n",
    "    X_test,Y_test = getData(target,countTestPoint)\n",
    "    w = trainSVM(X_train,Y_train)\n",
    "    ErrOwnSvn += predict(w,X_test,Y_test)\n",
    "    \n",
    "    sv = SVC(kernel='linear',C=np.inf).fit(X_train, Y_train)\n",
    "    yPredict = sv.predict(X_test)\n",
    "    cnt = np.sum(yPredict!=Y_test)\n",
    "    ErrSvn+=cnt/countTestPoint\n",
    "print(ErrOwnSvn/rep)\n",
    "print(ErrSvn/rep)\n",
    "\n"
   ]
  },
  {
   "cell_type": "code",
   "execution_count": null,
   "metadata": {
    "collapsed": true
   },
   "outputs": [],
   "source": []
  }
 ],
 "metadata": {
  "kernelspec": {
   "display_name": "Python 3",
   "language": "python",
   "name": "python3"
  },
  "language_info": {
   "codemirror_mode": {
    "name": "ipython",
    "version": 3
   },
   "file_extension": ".py",
   "mimetype": "text/x-python",
   "name": "python",
   "nbconvert_exporter": "python",
   "pygments_lexer": "ipython3",
   "version": "3.5.3"
  }
 },
 "nbformat": 4,
 "nbformat_minor": 2
}
